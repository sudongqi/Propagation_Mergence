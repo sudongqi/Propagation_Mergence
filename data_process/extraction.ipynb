{
 "cells": [
  {
   "cell_type": "code",
   "execution_count": 6,
   "metadata": {
    "collapsed": true
   },
   "outputs": [],
   "source": [
    "import json\n",
    "import csv\n",
    "import os\n",
    "\n",
    "# new paper class for holding all inforamtion. generate to json later for storage   \n",
    "class Paper(): \n",
    "    \n",
    "    def __init__(self, title, abstract, year, authors, b_topic, topics, pid, detc, url):\n",
    "        \n",
    "        # Basic info\n",
    "        self.title = title\n",
    "        self.abstract = abstract\n",
    "        self.year = year\n",
    "        self.authors = authors\n",
    "        self.broad_topic = b_topic\n",
    "        self.topics = topics\n",
    "        self.pid = pid\n",
    "        self.detc = detc\n",
    "        self.url = url\n",
    "        \n",
    "        # add later \n",
    "        self.index = -1\n",
    "        self.author_ids = []\n",
    "        self.citations = []\n",
    "        self.cited_by = []\n",
    "        self.all_cite = []\n"
   ]
  },
  {
   "cell_type": "code",
   "execution_count": 7,
   "metadata": {
    "collapsed": true
   },
   "outputs": [],
   "source": [
    "# dataBase from team 2014\n",
    "with open(\"data/DAC_Entire_DataBase.json\", \"r\") as f:\n",
    "    p_data = json.load(f)"
   ]
  },
  {
   "cell_type": "code",
   "execution_count": 8,
   "metadata": {
    "collapsed": false
   },
   "outputs": [
    {
     "name": "stdout",
     "output_type": "stream",
     "text": [
      "# of valid nodes: 1554\n"
     ]
    }
   ],
   "source": [
    "# build papers\n",
    "papers=[]\n",
    "count=0\n",
    "for p in p_data:\n",
    "    newpaper = Paper(p['Title'], p['Abstract'],p['Year'], p['Authors'],p['Broad_Topic'], \n",
    "                     p['Topics'], p['PaperID'],p['DETC'], p['URL'])\n",
    "    newpaper.index=str(count)\n",
    "    count+=1\n",
    "    papers.append(newpaper)\n",
    "    \n",
    "print(\"# of valid nodes: \" + str(count))  "
   ]
  },
  {
   "cell_type": "code",
   "execution_count": 9,
   "metadata": {
    "collapsed": false
   },
   "outputs": [],
   "source": [
    "#get dicitonary url_to_id\n",
    "url_to_id={}\n",
    "with open('data/papers.csv') as csvfile:\n",
    "    reader = csv.DictReader(csvfile)\n",
    "    for row in reader:\n",
    "        url_to_id[row['url']]=row['PaperID']"
   ]
  },
  {
   "cell_type": "code",
   "execution_count": 10,
   "metadata": {
    "collapsed": false
   },
   "outputs": [],
   "source": [
    "# citations_links.csv is from team 2014\n",
    "id_to_citations={}\n",
    "with open('data/citations_links.csv') as csvfile:\n",
    "    reader = csv.DictReader(csvfile)\n",
    "    for row in reader:\n",
    "        s=row['sourcePaperId']\n",
    "        t=row['targetPaperId']\n",
    "        if s in id_to_citations:\n",
    "            id_to_citations[s].append(t)\n",
    "        else:\n",
    "            id_to_citations[s]=[]"
   ]
  },
  {
   "cell_type": "code",
   "execution_count": 11,
   "metadata": {
    "collapsed": true
   },
   "outputs": [],
   "source": [
    "# get dictionary between id and index\n",
    "id_to_index={}\n",
    "index_to_id={}\n",
    "for p in papers:\n",
    "    id_to_index[url_to_id[p.url]]=p.index\n",
    "    index_to_id[p.index]=id_to_index[url_to_id[p.url]]"
   ]
  },
  {
   "cell_type": "code",
   "execution_count": 12,
   "metadata": {
    "collapsed": false
   },
   "outputs": [],
   "source": [
    "# build citations, and check if the citation is valid\n",
    "for p in papers:\n",
    "    get_id=url_to_id[p.url]\n",
    "    if(get_id in id_to_citations):\n",
    "        new_citations = id_to_citations[get_id]\n",
    "        for c in new_citations:\n",
    "            new_c = id_to_index[c]\n",
    "            if new_c in index_to_id:\n",
    "                p.citations.append(new_c)\n",
    "                p.all_cite.append(new_c)"
   ]
  },
  {
   "cell_type": "code",
   "execution_count": 13,
   "metadata": {
    "collapsed": false
   },
   "outputs": [],
   "source": [
    "# build cited by\n",
    "for p in papers:\n",
    "    for c in p.citations:\n",
    "        papers[int(c)].cited_by.append(p.index)\n",
    "        papers[int(c)].all_cite.append(p.index)"
   ]
  },
  {
   "cell_type": "code",
   "execution_count": 14,
   "metadata": {
    "collapsed": false
   },
   "outputs": [],
   "source": [
    "# generate json for later usage\n",
    "out_pp = []\n",
    "for p in papers:\n",
    "    # __dict__ specify the format of json \n",
    "    out_pp.append(p.__dict__)\n",
    "    \n",
    "if(os.path.isfile(\"data/Paper_2014_clean.json\")):\n",
    "    os.remove(\"data/Paper_2014_clean.json\")\n",
    "\n",
    "with open(\"data/Paper_2014_clean.json\", \"wb\") as f:\n",
    "    json.dump(out_pp, f)"
   ]
  },
  {
   "cell_type": "code",
   "execution_count": 15,
   "metadata": {
    "collapsed": false
   },
   "outputs": [],
   "source": [
    "# generate abstract for phrase mining\n",
    "\n",
    "if(os.path.isfile(\"data/dac_abstract.txt\")):\n",
    "    os.remove(\"data/dac_abstract.txt\")\n",
    "    \n",
    "with open(\"data/dac_abstract.txt\", \"w\") as text_file:\n",
    "    for p in papers:\n",
    "        # we can give a higer weight for the title\n",
    "        combine=p.abstract\n",
    "        for i in range(3):\n",
    "            combine+=(' ' + p.title)\n",
    "        text_file.write(combine.encode(\"UTF-8\")+\"\\n\")"
   ]
  },
  {
   "cell_type": "code",
   "execution_count": 16,
   "metadata": {
    "collapsed": false
   },
   "outputs": [
    {
     "name": "stdout",
     "output_type": "stream",
     "text": [
      "1554\n"
     ]
    }
   ],
   "source": [
    "print(len(papers))"
   ]
  },
  {
   "cell_type": "code",
   "execution_count": null,
   "metadata": {
    "collapsed": true
   },
   "outputs": [],
   "source": []
  }
 ],
 "metadata": {
  "kernelspec": {
   "display_name": "Python 2",
   "language": "python",
   "name": "python2"
  },
  "language_info": {
   "codemirror_mode": {
    "name": "ipython",
    "version": 2
   },
   "file_extension": ".py",
   "mimetype": "text/x-python",
   "name": "python",
   "nbconvert_exporter": "python",
   "pygments_lexer": "ipython2",
   "version": "2.7.6"
  }
 },
 "nbformat": 4,
 "nbformat_minor": 0
}
