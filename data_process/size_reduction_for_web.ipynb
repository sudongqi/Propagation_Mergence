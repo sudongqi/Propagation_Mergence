{
 "cells": [
  {
   "cell_type": "code",
   "execution_count": 4,
   "metadata": {
    "collapsed": false
   },
   "outputs": [
    {
     "name": "stdout",
     "output_type": "stream",
     "text": [
      "{u'year': 2008, u'all_cite': [u'441', u'537', u'664'], u'index': u'790', u'title': u'An Efficient Re-Analysis Methodology for Probabilistic Vibration of Large-Scale Structures', u'edge_set': [441, 537, 664], u'citations': [], u'bayes_rank': 4.346697600581699, u'ppm_index': 21, u'authors': [u'Geng Zhang', u'Efstratios Nikolaidis', u'Zissimos P. Mourelatos'], u'url': u'http://proceedings.asmedigitalcollection.asme.org//proceeding.aspx?articleID=1627303', u'louvain_index': 20}\n"
     ]
    }
   ],
   "source": [
    "import json\n",
    "\n",
    "with open(\"data/super_data_3.json\", \"r\") as f:\n",
    "    super_data = json.load(f)\n",
    "\n",
    "p_data=super_data['papers']\n",
    "del super_data['markov_ranks']\n",
    "del super_data['index_phrase']\n",
    "\n",
    "for p in p_data:\n",
    "    del p['abstract']\n",
    "    del p['prop_group']\n",
    "    del p['pid']\n",
    "    del p['prop_ratio']\n",
    "    del p['phrases']\n",
    "    del p['detc']\n",
    "    del p['actual_ratio']\n",
    "    del p['broad_topic']\n",
    "    del p['phrases_size']\n",
    "    del p['topics']\n",
    "    del p['cited_by']\n",
    "    del p['cited_by_sim']\n",
    "    del p['all_cite_sim']\n",
    "    del p['citations_sim']\n",
    "    del p['markov_rank']\n",
    "    del p['author_ids']\n",
    "\n",
    "print p_data[790]\n",
    "import os\n",
    "path = \"data/super_data_4.json\" \n",
    "if(os.path.isfile(path)): \n",
    "    os.remove(path) \n",
    "with open(path, \"w\") as f: \n",
    "    json.dump(super_data, f)"
   ]
  },
  {
   "cell_type": "code",
   "execution_count": null,
   "metadata": {
    "collapsed": true
   },
   "outputs": [],
   "source": []
  },
  {
   "cell_type": "code",
   "execution_count": null,
   "metadata": {
    "collapsed": true
   },
   "outputs": [],
   "source": []
  }
 ],
 "metadata": {
  "kernelspec": {
   "display_name": "Python 2",
   "language": "python",
   "name": "python2"
  },
  "language_info": {
   "codemirror_mode": {
    "name": "ipython",
    "version": 2
   },
   "file_extension": ".py",
   "mimetype": "text/x-python",
   "name": "python",
   "nbconvert_exporter": "python",
   "pygments_lexer": "ipython2",
   "version": "2.7.6"
  }
 },
 "nbformat": 4,
 "nbformat_minor": 0
}
