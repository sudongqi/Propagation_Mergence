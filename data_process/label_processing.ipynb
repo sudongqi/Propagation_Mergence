{
 "cells": [
  {
   "cell_type": "code",
   "execution_count": 52,
   "metadata": {
    "collapsed": false
   },
   "outputs": [],
   "source": [
    "import json\n",
    "import os\n",
    "from pprint import pprint"
   ]
  },
  {
   "cell_type": "code",
   "execution_count": 53,
   "metadata": {
    "collapsed": false
   },
   "outputs": [
    {
     "name": "stdout",
     "output_type": "stream",
     "text": [
      "{790: [(3, 0.7), (4, 0.3)],\n",
      " 823: [(7, 1)],\n",
      " 827: [(6, 0.6), (8, 0.4)],\n",
      " 872: [(7, 1)],\n",
      " 897: [(0, 1)],\n",
      " 946: [(3, 1)],\n",
      " 1009: [(16, 1)],\n",
      " 1030: [(1, 1)],\n",
      " 1069: [(6, 0.7), (5, 0.3)],\n",
      " 1197: [(0, 1)],\n",
      " 1222: [(4, 1)],\n",
      " 1225: [(12, 1)],\n",
      " 1240: [(9, 1)],\n",
      " 1277: [(17, 0.7), (12, 0.3)],\n",
      " 1299: [(2, 1)],\n",
      " 1309: [(0, 0.7), (5, 0.3)],\n",
      " 1347: [(9, 0.7), (10, 0.3)],\n",
      " 1348: [(11, 0.6), (7, 0.4)],\n",
      " 1373: [(15, 1)],\n",
      " 1485: [(13, 1)],\n",
      " 1494: [(14, 1)],\n",
      " 1498: [(0, 1)],\n",
      " 1508: [(11, 0.6), (0, 0.4)],\n",
      " 1528: [(2, 1)]}\n",
      "{'complex engineered systems': 9,\n",
      " 'data visualization': 15,\n",
      " 'decision-based design': 6,\n",
      " 'design for manufacturing': 5,\n",
      " 'design methodologies': 3,\n",
      " 'design optimization': 7,\n",
      " 'design under uncertainty': 12,\n",
      " 'heuristic optimization algorithms': 11,\n",
      " 'optimizaiton methods': 10,\n",
      " 'peference analysis': 8,\n",
      " 'product design': 1,\n",
      " 'product design process': 16,\n",
      " 'product family design': 0,\n",
      " 'reliability-based design': 2,\n",
      " 'reliability-based design optimization': 4,\n",
      " 'sensitivity analysis': 17,\n",
      " 'structual design': 13,\n",
      " 'surragate modeling': 14}\n"
     ]
    }
   ],
   "source": [
    "# manumal add label into the dictionary\n",
    "\n",
    "source={}\n",
    "\n",
    "source[790]=[('design methodologies', 0.7), ('reliability-based design optimization', 0.3)]\n",
    "source[823]=[('design optimization', 1)]\n",
    "source[827]=[('decision-based design',0.6),('peference analysis',0.4)]\n",
    "source[872]=[('design optimization', 1)]\n",
    "source[897]=[('product family design',1)]\n",
    "source[946]=[('design methodologies',1)]\n",
    "source[1009]=[('product design process',1)]\n",
    "source[1030]=[('product design',1)]\n",
    "source[1069]=[('decision-based design',0.7),('design for manufacturing',0.3)]\n",
    "source[1197]=[('product family design',1)]\n",
    "source[1222]=[('reliability-based design optimization',1)]\n",
    "source[1225]=[('design under uncertainty',1)]\n",
    "source[1240]=[('complex engineered systems',1)]\n",
    "source[1277]=[('sensitivity analysis', 0.7),('design under uncertainty', 0.3)]\n",
    "source[1299]=[('reliability-based design',1)]\n",
    "source[1309]=[('product family design',0.7),('design for manufacturing',0.3)]\n",
    "source[1347]=[('complex engineered systems',0.7),('optimizaiton methods',0.3)]\n",
    "source[1348]=[('heuristic optimization algorithms',0.6),('design optimization',0.4)]\n",
    "source[1373]=[('data visualization',1)]\n",
    "source[1485]=[('structual design',1)]\n",
    "source[1494]=[('surragate modeling',1)]\n",
    "source[1498]=[('product family design',1)]\n",
    "source[1508]=[('heuristic optimization algorithms',0.6),('product family design', 0.4)]\n",
    "source[1528]=[('reliability-based design',1)]\n",
    "\n",
    "label_idx={}\n",
    "idx_label={}\n",
    "count=0\n",
    "\n",
    "for key in source:\n",
    "    for i in source[key]:\n",
    "        if i[0] not in label_idx:\n",
    "            label_idx[i[0]]=count\n",
    "            idx_label[count]=i[0]\n",
    "            count+=1\n",
    "\n",
    "# build source dictionary using number only\n",
    "source_idx={}\n",
    "for key in source:\n",
    "    temp=[]\n",
    "    for i in source[key]:\n",
    "        temp.append((label_idx[i[0]],i[1]))\n",
    "    source_idx[key]=temp\n",
    "\n",
    "#sanity check: make sure no spelling error on labels\n",
    "pprint (source_idx)\n",
    "pprint (label_idx)"
   ]
  },
  {
   "cell_type": "code",
   "execution_count": 55,
   "metadata": {
    "collapsed": false
   },
   "outputs": [],
   "source": [
    "# generate json data\n",
    "idx_path=\"data/idx_label.json\"\n",
    "if(os.path.isfile(idx_path)):\n",
    "    os.remove(idx_path)\n",
    "with open(idx_path, \"w\") as f:\n",
    "    json.dump(idx_label, f)\n",
    "\n",
    "label_path=\"data/source.json\"\n",
    "if(os.path.isfile(label_path)):\n",
    "    os.remove(label_path)\n",
    "with open(label_path, \"w\") as f:\n",
    "    json.dump(source_idx, f)"
   ]
  },
  {
   "cell_type": "code",
   "execution_count": null,
   "metadata": {
    "collapsed": true
   },
   "outputs": [],
   "source": []
  }
 ],
 "metadata": {
  "kernelspec": {
   "display_name": "Python 2",
   "language": "python",
   "name": "python2"
  },
  "language_info": {
   "codemirror_mode": {
    "name": "ipython",
    "version": 2
   },
   "file_extension": ".py",
   "mimetype": "text/x-python",
   "name": "python",
   "nbconvert_exporter": "python",
   "pygments_lexer": "ipython2",
   "version": "2.7.6"
  }
 },
 "nbformat": 4,
 "nbformat_minor": 0
}
