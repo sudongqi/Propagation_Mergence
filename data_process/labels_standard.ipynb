{
 "cells": [
  {
   "cell_type": "code",
   "execution_count": 9,
   "metadata": {
    "collapsed": true
   },
   "outputs": [],
   "source": [
    "labels={} # approaches/methods/formulations/techniques\n",
    "labels[0]='design_under_uncertainty' # including robust design optimization, but excluding sensitivity analysis or surrogate modeling or reliability-based design optimization\n",
    "labels[1]='conceptual design' # including general design\n",
    "labels[2]='conjoint analysis' # including preference analyais\n",
    "labels[3]='surrogate modeling'\n",
    "labels[4]='decision-based design'\n",
    "labels[5]='sensitivity analysis'\n",
    "labels[6]='reliability-based design optimization'# including reliability analysis\n",
    "labels[7]='heuristic optimization algorithms' # including genetic algorithm\n",
    "labels[8]='multiobjective optimization'\n",
    "labels[9]='design optimization' # excluding the reliability-based design optimzation or multiobjective or heuristic optimization\n",
    "\n",
    "\n",
    "#additional_topics (applications)\n",
    "sub_labels={}\n",
    "sub_labels[0]='vehicle design'\n",
    "sub_labels[1]='product design' # including product family/manufacturing but excluding vehicle or structural design\n",
    "sub_labels[2]='none' # theory only\n",
    "sub_labels[3]='structural design' # including topology/architecture design\n",
    "sub_labels[4]='renewable energy' # wind-form\n",
    "sub_labels[5]='data_visulization' # 3d/projection_technique\n",
    "sub_labels[6]='mechanical design' # other mechanical/electrical design"
   ]
  },
  {
   "cell_type": "code",
   "execution_count": 10,
   "metadata": {
    "collapsed": true
   },
   "outputs": [],
   "source": [
    "s={}\n",
    "s[322]=[6,2]\n",
    "s[504]=[0,0]\n",
    "s[517]=[9,4]\n",
    "s[525]=[9,4]\n",
    "s[705]=[1,1]\n",
    "s[713]=[6,1]\n",
    "s[734]=[9,5]\n",
    "s[790]=[6,0]\n",
    "s[823]=[9,1]\n",
    "s[825]=[2,0]\n",
    "s[827]=[2,1]\n",
    "s[872]=[8,6]\n",
    "s[897]=[9,1]\n",
    "s[946]=[1,1]\n",
    "s[965]=[0,1]\n",
    "s[971]=[0,2]\n",
    "s[997]=[1,1]\n",
    "s[1009]=[0,1]\n",
    "s[1030]=[9,1]\n",
    "s[1045]=[6,3]\n",
    "s[1050]=[1,5]\n",
    "s[1069]=[4,1]\n",
    "s[1080]=[9,6]\n",
    "s[1084]=[9,3]\n",
    "#s[1093]=[-1,6]\n",
    "s[1156]=[0,1]\n",
    "s[1197]=[1,1]\n",
    "s[1206]=[1,1]\n",
    "s[1213]=[1,0]\n",
    "s[1222]=[6,0]\n",
    "s[1225]=[0,0]\n",
    "s[1240]=[8,2]\n",
    "s[1245]=[9,1]\n",
    "s[1277]=[5,0]\n",
    "s[1284]=[3,2]\n",
    "#s[1294]=[6,-1]\n",
    "s[1296]=[6,0]\n",
    "s[1299]=[6,3]\n",
    "s[1305]=[0,6]\n",
    "s[1309]=[9,1]\n",
    "s[1341]=[5,3]\n",
    "s[1347]=[3,6]\n",
    "s[1348]=[7,2]\n",
    "s[1373]=[1,5]\n",
    "s[1383]=[4,6]\n",
    "s[1467]=[8,3]\n",
    "s[1483]=[4,1]\n",
    "s[1485]=[9,3]\n",
    "s[1493]=[3,2]\n",
    "s[1494]=[3,2]\n",
    "s[1497]=[1,1]\n",
    "s[1498]=[4,1]\n",
    "s[1501]=[9,1]\n",
    "s[1508]=[7,1]\n",
    "s[1528]=[6,0]\n",
    "#s[1531]=[-1,5]\n",
    "s[1549]=[8,3]"
   ]
  },
  {
   "cell_type": "code",
   "execution_count": 11,
   "metadata": {
    "collapsed": false
   },
   "outputs": [],
   "source": [
    "s1={}\n",
    "s2={}\n",
    "\n",
    "for key in s:\n",
    "    s1[key]=[(s[key][0],1)]\n",
    "\n",
    "for key in s:\n",
    "    s2[key]=[(s[key][1],1)]"
   ]
  },
  {
   "cell_type": "code",
   "execution_count": 12,
   "metadata": {
    "collapsed": false
   },
   "outputs": [],
   "source": [
    "import os\n",
    "import json\n",
    "\n",
    "path=\"data/idx_label_2.json\"\n",
    "if(os.path.isfile(path)):\n",
    "    os.remove(path)\n",
    "with open(path, \"w\") as f:\n",
    "    json.dump(labels, f)\n",
    "    \n",
    "path=\"data/idx_label_3.json\"\n",
    "if(os.path.isfile(path)):\n",
    "    os.remove(path)\n",
    "with open(path, \"w\") as f:\n",
    "    json.dump(sub_labels, f)\n",
    "    \n",
    "path=\"data/source_2.json\"\n",
    "if(os.path.isfile(path)):\n",
    "    os.remove(path)\n",
    "with open(path, \"w\") as f:\n",
    "    json.dump(s1, f)\n",
    "    \n",
    "path=\"data/source_3.json\"\n",
    "if(os.path.isfile(path)):\n",
    "    os.remove(path)\n",
    "with open(path, \"w\") as f:\n",
    "    json.dump(s2, f)"
   ]
  },
  {
   "cell_type": "code",
   "execution_count": null,
   "metadata": {
    "collapsed": true
   },
   "outputs": [],
   "source": []
  }
 ],
 "metadata": {
  "kernelspec": {
   "display_name": "Python 2",
   "language": "python",
   "name": "python2"
  },
  "language_info": {
   "codemirror_mode": {
    "name": "ipython",
    "version": 2
   },
   "file_extension": ".py",
   "mimetype": "text/x-python",
   "name": "python",
   "nbconvert_exporter": "python",
   "pygments_lexer": "ipython2",
   "version": "2.7.6"
  }
 },
 "nbformat": 4,
 "nbformat_minor": 0
}
